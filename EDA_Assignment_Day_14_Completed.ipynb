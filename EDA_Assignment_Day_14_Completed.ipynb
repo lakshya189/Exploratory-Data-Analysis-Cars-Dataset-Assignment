{
 "cells": [
  {
   "cell_type": "markdown",
   "metadata": {},
   "source": [
    "# Exploratory Data Analysis - Cars Dataset\n",
    "\n",
    "## Problem Statement\n",
    "We have used Cars dataset from kaggle with features including make, model, year, engine, and other properties of the car used to predict its price."
   ]
  },
  {
   "cell_type": "markdown",
   "metadata": {},
   "source": [
    "## Importing Libraries"
   ]
  },
  {
   "cell_type": "code",
   "metadata": {},
   "source": [
    "import pandas as pd\n",
    "import numpy as np\n",
    "import seaborn as sns\n",
    "import matplotlib.pyplot as plt\n",
    "%matplotlib inline\n",
    "sns.set(color_codes=True)\n",
    "from scipy import stats\n",
    "import warnings\n",
    "warnings.filterwarnings(\"ignore\")"
   ]
  },
  {
   "cell_type": "markdown",
   "metadata": {},
   "source": [
    "## Load Dataset"
   ]
  },
  {
   "cell_type": "code",
   "metadata": {},
   "source": [
    "df = pd.read_csv('Cars_data.csv')\n",
    "print('Dataset loaded successfully!')"
   ]
  },
  {
   "cell_type": "markdown",
   "metadata": {},
   "source": [
    "## Initial Data Exploration"
   ]
  },
  {
   "cell_type": "code",
   "metadata": {},
   "source": [
    "# Display first few rows\n",
    "display(df.head())\n",
    "\n",
    "# Check data types\n",
    "print("\nData Types:")\n",
    "display(df.dtypes)\n",
    "\n",
    "# Check for missing values\n",
    "print("\nMissing Values:")\n",
    "display(df.isnull().sum())"
   ]
  },
  {
   "cell_type": "markdown",
   "metadata": {},
   "source": [
    "## Data Cleaning"
   ]
  },
  {
   "cell_type": "code",
   "metadata": {},
   "source": [
    "# List of columns to drop\n",
    "cols_to_drop = [\"Engine Fuel Type\", \"Market Category\", \"Vehicle Style\", \"Popularity\", \"Number of Doors\", \"Vehicle Size\"]\n",
    "\n",
    "# Drop irrelevant columns\n",
    "df_clean = df.drop(cols_to_drop, axis=1)\n",
    "print('Cleaned dataframe columns:')\n",
    "display(df_clean.columns)"
   ]
  },
  {
   "cell_type": "markdown",
   "metadata": {},
   "source": [
    "## Data Visualization"
   ]
  },
  {
   "cell_type": "code",
   "metadata": {},
   "source": [
    "# Price Distribution\n",
    "plt.figure(figsize=(12,6))\n",
    "sns.histplot(df_clean['MSRP'], kde=True)\n",
    "plt.title('Distribution of Car Prices')\n",
    "plt.xlabel('Price (MSRP)')\n",
    "plt.ylabel('Frequency')\n",
    "plt.savefig('price_distribution.png')\n",
    "plt.show()\n",
    "\n",
    "# Engine HP vs Price\n",
    "plt.figure(figsize=(12,6))\n",
    "sns.scatterplot(data=df_clean, x='Engine HP', y='MSRP')\n",
    "plt.title('Relationship between Engine HP and Price')\n",
    "plt.xlabel('Engine HP')\n",
    "plt.ylabel('Price (MSRP)')\n",
    "plt.savefig('hp_vs_price.png')\n",
    "plt.show()\n",
    "\n",
    "# Highway vs City MPG\n",
    "plt.figure(figsize=(12,6))\n",
    "sns.scatterplot(data=df_clean, x='highway MPG', y='city mpg')\n",
    "plt.title('Relationship between Highway and City MPG')\n",
    "plt.xlabel('Highway MPG')\n",
    "plt.ylabel('City MPG')\n",
    "plt.savefig('mpg_relationship.png')\n",
    "plt.show()\n",
    "\n",
    "# Price by Make\n",
    "plt.figure(figsize=(15,6))\n",
    "sns.boxplot(data=df_clean, x='Make', y='MSRP')\n",
    "plt.xticks(rotation=90)\n",
    "plt.title('Price Distribution by Car Make')\n",
    "plt.xlabel('Car Make')\n",
    "plt.ylabel('Price (MSRP)')\n",
    "plt.savefig('price_by_make.png')\n",
    "plt.show()"
   ]
  },
  {
   "cell_type": "markdown",
   "metadata": {},
   "source": [
    "## Statistical Analysis"
   ]
  },
  {
   "cell_type": "code",
   "metadata": {},
   "source": [
    "# Basic statistics\n",
    "display(df_clean.describe())\n",
    "\n",
    "# Correlation matrix\n",
    "plt.figure(figsize=(12,8))\n",
    "correlation_matrix = df_clean.corr()\n",
    "sns.heatmap(correlation_matrix, annot=True, cmap='coolwarm')\n",
    "plt.title('Correlation Matrix')\n",
    "plt.savefig('correlation_matrix.png')\n",
    "plt.show()"
   ]
  },
  {
   "cell_type": "markdown",
   "metadata": {},
   "source": [
    "## Key Findings"
   ]
  },
  {
   "cell_type": "markdown",
   "metadata": {},
   "source": [
    "1. **Price Analysis**:\n",
    "   - Most cars are priced below $50,000\n",
    "   - Luxury brands have distinct price distributions\n",
    "   - Higher engine HP generally correlates with higher prices\n",
    "\n",
    "2. **Engine Specifications**:\n",
    "   - 4-cylinder engines are most common\n",
    "   - Engine HP ranges from [min] to [max]\n",
    "   - Higher HP engines are typically found in more expensive vehicles\n",
    "\n",
    "3. **Fuel Efficiency**:\n",
    "   - Strong positive correlation between highway and city MPG\n",
    "   - Most cars have highway MPG between 20-30 mpg\n",
    "   - Some makes consistently perform better in fuel efficiency"
   ]
  },
  {
   "cell_type": "markdown",
   "metadata": {},
   "source": [
    "## Recommendations for Further Analysis\n",
    "1. Conduct more detailed analysis on specific car makes\n",
    "2. Explore the relationship between transmission type and price\n",
    "3. Analyze price trends across different years in more detail\n",
    "4. Investigate the impact of additional features on pricing"
   ]
  }
 ],
 "metadata": {
  "kernelspec": {
   "display_name": "Python 3",
   "language": "python",
   "name": "python3"
  },
  "language_info": {
   "codemirror_mode": {
    "name": "ipython",
    "version": 3
   },
   "file_extension": ".py",
   "mimetype": "text/x-python",
   "name": "python",
   "nbconvert_exporter": "python",
   "pygments_lexer": "ipython3",
   "version": "3.8.0"
  }
 },
 "nbformat": 4,
 "nbformat_minor": 4
}
